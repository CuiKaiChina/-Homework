{
 "cells": [
  {
   "cell_type": "markdown",
   "metadata": {},
   "source": [
    "### Thinking1:当我们思考数据源的时候，都有哪些维度，如果你想使用爬虫工具获取数据，都有哪些工具"
   ]
  },
  {
   "cell_type": "markdown",
   "metadata": {},
   "source": [
    "- 获取数据源的维度\n",
    "  - 开放的数据源，如政府机构、企业和高校也会开放相应的大数据\n",
    "  - 爬虫抓取\n",
    "  - 传感器\n",
    "  - 日志采集\n",
    "- 常见爬虫工具\n",
    "  - 火车头采集器\n",
    "  - 八爪鱼\n",
    "  - 收集客"
   ]
  },
  {
   "cell_type": "markdown",
   "metadata": {},
   "source": [
    "### Thinking2:企业的数据来自多个维度，请思考什么是企业的数据中台，你是如何理解一方数据 ，二方数据，三方数据“"
   ]
  },
  {
   "cell_type": "markdown",
   "metadata": {},
   "source": [
    "- 企业数据中台的定义\n",
    "  - 首次由阿里巴巴提出，为了应对业务高峰、应对大规模数据的线性可扩展问题、应对业务系统的解耦问题而构建的一个”共享服务平台“\n",
    "  - 数据中台是指通过数据技术，对海量数据进行采集、计算、存储、加工、同时统一标准和口径\n",
    "  - 数据中台把数据统一之后，会形成标准数据，再进行存储，形成大数据资产，进而为企业提供高效业务\n",
    "\n",
    "1. 第一方数据：App内行为数据、CRM数据、其他自有渠道行为数据；\n",
    "2. 第二方数据：媒体交互行为，如广告检测、网站分析、舆情等；\n",
    "3. 第三方数据：第三方数据供应商，如数据平台，运营商等"
   ]
  },
  {
   "cell_type": "markdown",
   "metadata": {},
   "source": [
    "#### Action1:不用任何数学库，如何求出sqrt(10),并且精确到小数点之后 10 位"
   ]
  },
  {
   "cell_type": "code",
   "execution_count": 11,
   "metadata": {},
   "outputs": [
    {
     "data": {
      "text/plain": [
       "3.162277660168379"
      ]
     },
     "execution_count": 11,
     "metadata": {},
     "output_type": "execute_result"
    }
   ],
   "source": [
    "# 牛顿迭代法\n",
    "def sqrt(n:int)->int:\n",
    "    r = n \n",
    "    while r ** 2 - n > 1e-10:\n",
    "        r = (r + n / r) / 2 \n",
    "    return r \n",
    "sqrt(10)"
   ]
  },
  {
   "cell_type": "markdown",
   "metadata": {},
   "source": [
    "### Action2:汽车投诉信息采集"
   ]
  },
  {
   "cell_type": "markdown",
   "metadata": {},
   "source": [
    "- 已经使用八爪鱼爬取"
   ]
  }
 ],
 "metadata": {
  "kernelspec": {
   "display_name": "Python 3",
   "language": "python",
   "name": "python3"
  },
  "language_info": {
   "codemirror_mode": {
    "name": "ipython",
    "version": 3
   },
   "file_extension": ".py",
   "mimetype": "text/x-python",
   "name": "python",
   "nbconvert_exporter": "python",
   "pygments_lexer": "ipython3",
   "version": "3.7.6"
  }
 },
 "nbformat": 4,
 "nbformat_minor": 4
}
